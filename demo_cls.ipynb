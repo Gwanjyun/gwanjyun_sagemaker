{
 "cells": [
  {
   "cell_type": "code",
   "execution_count": 1,
   "id": "fae12a9c-cb1f-46d6-b3ba-5f2525ae7716",
   "metadata": {},
   "outputs": [],
   "source": [
    "import torch\n",
    "import torch.nn as nn\n",
    "import torch.optim as optim\n",
    "import torchvision\n",
    "import torchvision.transforms as transforms\n",
    "\n",
    "from tqdm.auto import tqdm, trange\n",
    "\n",
    "base_path = '..'"
   ]
  },
  {
   "cell_type": "code",
   "execution_count": 2,
   "id": "e634998e-9733-442f-a4bc-f52b64f796b9",
   "metadata": {},
   "outputs": [],
   "source": [
    "device = torch.device('cuda')"
   ]
  },
  {
   "cell_type": "code",
   "execution_count": 3,
   "id": "fdd35efa-3827-4ce2-ae91-5047061309c1",
   "metadata": {},
   "outputs": [],
   "source": [
    "transform = transforms.Compose([\n",
    "    transforms.ToTensor(),\n",
    "    lambda x: torch.repeat_interleave(x,3,0),\n",
    "    transforms.Resize((32,32)),\n",
    "    transforms.RandomRotation(10), # data augmentation\n",
    "])\n",
    "# only 4 kernel\n",
    "dataloader = torch.utils.data.DataLoader(torchvision.datasets.MNIST(base_path + '/data', transform = transform, download=True), 1024, True, num_workers = 4)\n",
    "dataloader_test = torch.utils.data.DataLoader(torchvision.datasets.MNIST(base_path + '/data', False, transform = transform, download=True), 32, False)"
   ]
  },
  {
   "cell_type": "code",
   "execution_count": 4,
   "id": "4ccfad88-17a8-49b1-a08e-f2554f6c7456",
   "metadata": {},
   "outputs": [],
   "source": [
    "f = lambda x: torch.repeat_interleave(x,3,1)"
   ]
  },
  {
   "cell_type": "code",
   "execution_count": 5,
   "id": "948394e0-f8fe-4ccc-87b0-2ce029a393fe",
   "metadata": {},
   "outputs": [],
   "source": [
    "x = torch.randn(4,1,32,32)"
   ]
  },
  {
   "cell_type": "code",
   "execution_count": 6,
   "id": "3e675355-7e6e-4504-b117-f47cf627d8d3",
   "metadata": {
    "tags": []
   },
   "outputs": [],
   "source": [
    "model = torchvision.models.resnet50(True)\n",
    "model.fc = nn.Linear(2048, 10)\n",
    "model = model.to(device)"
   ]
  },
  {
   "cell_type": "code",
   "execution_count": 7,
   "id": "ae6b2523-870a-4e34-889b-47d1ead2c145",
   "metadata": {},
   "outputs": [],
   "source": [
    "loss_func = nn.CrossEntropyLoss()\n",
    "optimizer = optim.Adam(model.parameters(), lr = 0.001)"
   ]
  },
  {
   "cell_type": "code",
   "execution_count": 8,
   "id": "e095ff90-75b8-4d90-b2c0-f25176eca4b1",
   "metadata": {},
   "outputs": [
    {
     "data": {
      "application/vnd.jupyter.widget-view+json": {
       "model_id": "675bc2047cb84ca58b06ee22fa826132",
       "version_major": 2,
       "version_minor": 0
      },
      "text/plain": [
       "  0%|          | 0/1 [00:00<?, ?it/s]"
      ]
     },
     "metadata": {},
     "output_type": "display_data"
    },
    {
     "data": {
      "application/vnd.jupyter.widget-view+json": {
       "model_id": "81080d61c5a7414b94e9beb5df7cad39",
       "version_major": 2,
       "version_minor": 0
      },
      "text/plain": [
       "  0%|          | 0/59 [00:00<?, ?it/s]"
      ]
     },
     "metadata": {},
     "output_type": "display_data"
    },
    {
     "data": {
      "application/vnd.jupyter.widget-view+json": {
       "model_id": "26f32066b074401792646ac970524911",
       "version_major": 2,
       "version_minor": 0
      },
      "text/plain": [
       "  0%|          | 0/313 [00:00<?, ?it/s]"
      ]
     },
     "metadata": {},
     "output_type": "display_data"
    }
   ],
   "source": [
    "epoch_iter = trange(1)\n",
    "for epoch in epoch_iter:\n",
    "    # train\n",
    "    num = 0\n",
    "    den = 0\n",
    "    data_iter = tqdm(dataloader)\n",
    "    model.train()\n",
    "    for data in data_iter:\n",
    "        x = data[0].to(device)\n",
    "        labels = data[1].to(device)\n",
    "        \n",
    "        y = model(x)\n",
    "        loss = loss_func(y, labels)\n",
    "        \n",
    "        optimizer.zero_grad()\n",
    "        loss.backward()\n",
    "        optimizer.step()\n",
    "        \n",
    "        num += torch.sum(y.argmax(1) == labels)\n",
    "        den += labels.shape[0]\n",
    "        acc = float(num/den)\n",
    "        \n",
    "        data_iter.set_postfix(acc = acc, loss = float(loss))\n",
    "    # test \n",
    "    num = 0\n",
    "    den = 0\n",
    "    data_iter = tqdm(dataloader_test)\n",
    "    model.eval()\n",
    "    for data in data_iter:\n",
    "        x = data[0].to(device)\n",
    "        labels = data[1].to(device)\n",
    "        \n",
    "        y = model(x)\n",
    "        num += torch.sum(y.argmax(1) == labels)\n",
    "        den += labels.shape[0]\n",
    "        acc = float(num/den)\n",
    "        \n",
    "        data_iter.set_postfix(acc = acc)"
   ]
  },
  {
   "cell_type": "code",
   "execution_count": null,
   "id": "264ec99e-1351-4013-89a9-35f87ff7b65c",
   "metadata": {},
   "outputs": [],
   "source": []
  },
  {
   "cell_type": "code",
   "execution_count": null,
   "id": "1ff372e8-c2aa-4c72-9a7d-e35c60f09aa7",
   "metadata": {},
   "outputs": [],
   "source": []
  },
  {
   "cell_type": "code",
   "execution_count": null,
   "id": "51f7fab7-f3ae-4653-8dcb-d6e441bfa6af",
   "metadata": {},
   "outputs": [],
   "source": []
  }
 ],
 "metadata": {
  "kernelspec": {
   "display_name": "gan:Python",
   "language": "python",
   "name": "conda-env-gan-py"
  },
  "language_info": {
   "codemirror_mode": {
    "name": "ipython",
    "version": 3
   },
   "file_extension": ".py",
   "mimetype": "text/x-python",
   "name": "python",
   "nbconvert_exporter": "python",
   "pygments_lexer": "ipython3",
   "version": "3.9.10"
  }
 },
 "nbformat": 4,
 "nbformat_minor": 5
}
